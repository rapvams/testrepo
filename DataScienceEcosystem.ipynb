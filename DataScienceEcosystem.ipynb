{
 "cells": [
  {
   "cell_type": "markdown",
   "id": "ba5eee5c-2e79-433d-84f8-da70e544b6bd",
   "metadata": {},
   "source": [
    "# Data Science Tools and Ecosystem"
   ]
  },
  {
   "cell_type": "markdown",
   "id": "3cc6f0ff-7553-4344-ba7e-50a9211a062b",
   "metadata": {},
   "source": [
    "# In this notebook, Data Science Tools and Ecosystem are summarized."
   ]
  },
  {
   "cell_type": "markdown",
   "id": "de216b45-3f01-463a-a7ce-2665072b2cfa",
   "metadata": {},
   "source": [
    "# Some of the popular languages that Data Scientists use are:\n",
    "1. python\n",
    "2. java\n",
    "3. julia"
   ]
  },
  {
   "cell_type": "markdown",
   "id": "b4c71593-d3b3-483e-aa79-5c8856648a10",
   "metadata": {},
   "source": [
    "# Some of the commonly used libraries used by Data Scientists include:\n",
    "1. TensorFlow.\n",
    "2. NumPy.\n",
    "3. SciPy.\n",
    "4. Pandas."
   ]
  },
  {
   "cell_type": "markdown",
   "id": "94457648-84cd-4912-b5e5-2402f43bf9ac",
   "metadata": {},
   "source": [
    "|Data science tools|\n",
    "|------------------|\n",
    "|RStudio|\n",
    "|Apache Spark|\n",
    "|TensorFlow|"
   ]
  },
  {
   "cell_type": "markdown",
   "id": "7dee8246-d718-4ba9-93fd-8da32f17b6a6",
   "metadata": {},
   "source": [
    "### Below are a few examples of evaluating arithmetic expressions in Python"
   ]
  },
  {
   "cell_type": "code",
   "execution_count": 1,
   "id": "efef4412-f5c7-439d-88fe-2d82e4c3b725",
   "metadata": {},
   "outputs": [
    {
     "data": {
      "text/plain": [
       "17"
      ]
     },
     "execution_count": 1,
     "metadata": {},
     "output_type": "execute_result"
    }
   ],
   "source": [
    "(3*4)+5"
   ]
  },
  {
   "cell_type": "code",
   "execution_count": 2,
   "id": "5e14c0be-87a5-4dfe-889b-af7e9d678e1c",
   "metadata": {},
   "outputs": [
    {
     "data": {
      "text/plain": [
       "3.3333333333333335"
      ]
     },
     "execution_count": 2,
     "metadata": {},
     "output_type": "execute_result"
    }
   ],
   "source": [
    "#This will convert 200 minutes to hours by diving by 60\n",
    "200/60"
   ]
  },
  {
   "cell_type": "markdown",
   "id": "18b667b5-bfdd-44ee-8263-a2fc9cbaff85",
   "metadata": {},
   "source": [
    "# Objectives:\n",
    "- R\n",
    "- Python\n",
    "- Java"
   ]
  },
  {
   "cell_type": "markdown",
   "id": "8895d748-c46c-4fb4-b84b-a2826b5be2b9",
   "metadata": {},
   "source": [
    "## Author\n",
    "vamshi"
   ]
  },
  {
   "cell_type": "code",
   "execution_count": null,
   "id": "5df82e73-e9f3-4864-8825-82a1d8915dbb",
   "metadata": {},
   "outputs": [],
   "source": []
  }
 ],
 "metadata": {
  "kernelspec": {
   "display_name": "Python 3 (ipykernel)",
   "language": "python",
   "name": "python3"
  },
  "language_info": {
   "codemirror_mode": {
    "name": "ipython",
    "version": 3
   },
   "file_extension": ".py",
   "mimetype": "text/x-python",
   "name": "python",
   "nbconvert_exporter": "python",
   "pygments_lexer": "ipython3",
   "version": "3.9.13"
  }
 },
 "nbformat": 4,
 "nbformat_minor": 5
}
